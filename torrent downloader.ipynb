{
  "nbformat": 4,
  "nbformat_minor": 0,
  "metadata": {
    "colab": {
      "name": "github.ipynb",
      "provenance": [],
      "collapsed_sections": [],
      "include_colab_link": true
    },
    "kernelspec": {
      "name": "python3",
      "display_name": "Python 3"
    },
    "accelerator": "GPU"
  },
  "cells": [
    {
      "cell_type": "markdown",
      "metadata": {
        "id": "view-in-github",
        "colab_type": "text"
      },
      "source": [
        "<a href=\"https://colab.research.google.com/github/Aimgod-69/python_projects/blob/main/torrent%20downloader.ipynb\" target=\"_parent\"><img src=\"https://colab.research.google.com/assets/colab-badge.svg\" alt=\"Open In Colab\"/></a>"
      ]
    },
    {
      "cell_type": "markdown",
      "metadata": {
        "id": "aQuWDmfm9YOi"
      },
      "source": [
        "# Torrents To Google Drive Downloader"
      ]
    },
    {
      "cell_type": "markdown",
      "metadata": {
        "id": "Uf90U73y9YOj"
      },
      "source": [
        "### Mount Google Drive\n",
        "To stream files we need to mount Google Drive."
      ]
    },
    {
      "cell_type": "code",
      "metadata": {
        "id": "oWM9l2fvtuvO",
        "colab": {
          "base_uri": "https://localhost:8080/"
        },
        "outputId": "a577ea30-c6a2-4dcc-ff38-55cea477897d"
      },
      "source": [
        "from google.colab import drive\n",
        "drive.mount('/content/drive')"
      ],
      "execution_count": 1,
      "outputs": [
        {
          "output_type": "stream",
          "text": [
            "Mounted at /content/drive\n"
          ],
          "name": "stdout"
        }
      ]
    },
    {
      "cell_type": "markdown",
      "metadata": {
        "id": "FexiyATtNwTG"
      },
      "source": [
        "###Dependency\n",
        "https://www.libtorrent.org/"
      ]
    },
    {
      "cell_type": "code",
      "metadata": {
        "id": "m6hF0emftx4h",
        "colab": {
          "base_uri": "https://localhost:8080/"
        },
        "outputId": "64f5c303-a829-443f-ae80-65ab6fa842ec"
      },
      "source": [
        "!python -m pip install --upgrade pip setuptools wheel\n",
        "!python -m pip install lbry-libtorrent"
      ],
      "execution_count": 2,
      "outputs": [
        {
          "output_type": "stream",
          "text": [
            "Collecting pip\n",
            "\u001b[?25l  Downloading https://files.pythonhosted.org/packages/cd/82/04e9aaf603fdbaecb4323b9e723f13c92c245f6ab2902195c53987848c78/pip-21.1.2-py3-none-any.whl (1.5MB)\n",
            "\u001b[K     |████████████████████████████████| 1.6MB 4.3MB/s \n",
            "\u001b[?25hRequirement already up-to-date: setuptools in /usr/local/lib/python3.7/dist-packages (57.0.0)\n",
            "Requirement already up-to-date: wheel in /usr/local/lib/python3.7/dist-packages (0.36.2)\n",
            "Installing collected packages: pip\n",
            "  Found existing installation: pip 19.3.1\n",
            "    Uninstalling pip-19.3.1:\n",
            "      Successfully uninstalled pip-19.3.1\n",
            "Successfully installed pip-21.1.2\n",
            "Collecting lbry-libtorrent\n",
            "  Downloading lbry_libtorrent-1.2.4-py3-none-any.whl (2.4 MB)\n",
            "\u001b[K     |████████████████████████████████| 2.4 MB 4.3 MB/s \n",
            "\u001b[?25hInstalling collected packages: lbry-libtorrent\n",
            "Successfully installed lbry-libtorrent-1.2.4\n",
            "\u001b[33mWARNING: Running pip as root will break packages and permissions. You should install packages reliably by using venv: https://pip.pypa.io/warnings/venv\u001b[0m\n"
          ],
          "name": "stdout"
        }
      ]
    },
    {
      "cell_type": "markdown",
      "metadata": {
        "id": "j-ILSl_YOGRS"
      },
      "source": [
        "### Paste the Magnet Link here\n",
        "Variable **link** stores the link string."
      ]
    },
    {
      "cell_type": "code",
      "metadata": {
        "id": "xoyBbqS9LZr3",
        "colab": {
          "base_uri": "https://localhost:8080/"
        },
        "outputId": "014c6306-4a28-44ac-b0b5-a458df372122"
      },
      "source": [
        "link = input(\"PASTE TORRENT/MAGNET LINK HERE \\n\") # PASTE TORRENT/MAGNET LINK HERE"
      ],
      "execution_count": 5,
      "outputs": [
        {
          "output_type": "stream",
          "text": [
            "PASTE TORRENT/MAGNET LINK HERE \n",
            "magnet:?xt=urn:btih:1709df7bcae6985b022636a6538f4f02709f88cc&dn=%5BFreeCourseSite.com%5D+Udemy+-+Build+a+Backend+REST+API+with+Python+%26+Django+-+Beginner\n"
          ],
          "name": "stdout"
        }
      ]
    },
    {
      "cell_type": "markdown",
      "metadata": {
        "id": "tqKcWHZcYRIA"
      },
      "source": [
        "### Code to download torrent"
      ]
    },
    {
      "cell_type": "code",
      "metadata": {
        "id": "b09BxnANO2ep",
        "colab": {
          "base_uri": "https://localhost:8080/"
        },
        "outputId": "256c3dcb-20b6-49d1-851e-6fb155500c58"
      },
      "source": [
        "import libtorrent as lt\n",
        "import time\n",
        "import datetime\n",
        "\n",
        "ses = lt.session()\n",
        "ses.listen_on(6881, 6891)\n",
        "params = {\n",
        "    'save_path': '/content/drive/My Drive/Torrent/',\n",
        "    'storage_mode': lt.storage_mode_t(2)}\n",
        "\n",
        "print(link)\n",
        "\n",
        "handle = lt.add_magnet_uri(ses, link, params)\n",
        "ses.start_dht()\n",
        "\n",
        "begin = time.time()\n",
        "print(datetime.datetime.now())\n",
        "\n",
        "print ('Downloading Metadata...')\n",
        "while (not handle.has_metadata()):\n",
        "    time.sleep(1)\n",
        "print ('Got Metadata, Starting Torrent Download...')\n",
        "\n",
        "print(\"Starting\", handle.name())\n",
        "\n",
        "while (handle.status().state != lt.torrent_status.seeding):\n",
        "    s = handle.status()\n",
        "    state_str = ['queued', 'checking', 'downloading metadata', \\\n",
        "            'downloading', 'finished', 'seeding', 'allocating']\n",
        "    print ('%.2f%% complete (down: %.1f kb/s up: %.1f kB/s peers: %d) %s ' % \\\n",
        "            (s.progress * 100, s.download_rate / 1000, s.upload_rate / 1000, \\\n",
        "            s.num_peers, state_str[s.state]))\n",
        "    time.sleep(5)\n",
        "\n",
        "end = time.time()\n",
        "print(handle.name(), \"COMPLETE\")\n",
        "\n",
        "print(\"Elapsed Time: \",int((end-begin)//60),\"min :\", int((end-begin)%60), \"sec\")\n",
        "\n",
        "print(datetime.datetime.now())"
      ],
      "execution_count": null,
      "outputs": [
        {
          "output_type": "stream",
          "text": [
            "magnet:?xt=urn:btih:1709df7bcae6985b022636a6538f4f02709f88cc&dn=%5BFreeCourseSite.com%5D+Udemy+-+Build+a+Backend+REST+API+with+Python+%26+Django+-+Beginner\n",
            "2021-06-25 12:35:41.167845\n",
            "Downloading Metadata...\n",
            "Got Metadata, Starting Torrent Download...\n",
            "Starting [FreeCourseSite.com] Udemy - Build a Backend REST API with Python & Django - Beginner\n",
            "0.00% complete (down: 22.1 kb/s up: 0.9 kB/s peers: 2) downloading \n",
            "0.08% complete (down: 548.6 kb/s up: 16.2 kB/s peers: 1) downloading \n",
            "0.14% complete (down: 596.6 kb/s up: 17.9 kB/s peers: 1) downloading \n",
            "0.22% complete (down: 777.9 kb/s up: 23.7 kB/s peers: 1) downloading \n",
            "0.26% complete (down: 502.7 kb/s up: 15.2 kB/s peers: 1) downloading \n",
            "0.30% complete (down: 406.3 kb/s up: 12.0 kB/s peers: 1) downloading \n",
            "0.31% complete (down: 231.2 kb/s up: 6.7 kB/s peers: 1) downloading \n",
            "0.35% complete (down: 340.5 kb/s up: 10.2 kB/s peers: 1) downloading \n",
            "0.39% complete (down: 417.9 kb/s up: 12.8 kB/s peers: 2) downloading \n",
            "0.41% complete (down: 338.5 kb/s up: 10.2 kB/s peers: 1) downloading \n",
            "0.43% complete (down: 211.2 kb/s up: 6.3 kB/s peers: 1) downloading \n",
            "0.47% complete (down: 370.1 kb/s up: 11.2 kB/s peers: 1) downloading \n",
            "0.50% complete (down: 369.2 kb/s up: 11.2 kB/s peers: 3) downloading \n",
            "0.53% complete (down: 330.5 kb/s up: 10.2 kB/s peers: 4) downloading \n",
            "0.58% complete (down: 445.5 kb/s up: 13.7 kB/s peers: 3) downloading \n",
            "0.63% complete (down: 504.9 kb/s up: 15.6 kB/s peers: 3) downloading \n",
            "0.66% complete (down: 342.5 kb/s up: 10.2 kB/s peers: 2) downloading \n",
            "0.70% complete (down: 411.0 kb/s up: 12.5 kB/s peers: 2) downloading \n",
            "0.72% complete (down: 279.1 kb/s up: 8.3 kB/s peers: 2) downloading \n",
            "0.76% complete (down: 383.9 kb/s up: 11.6 kB/s peers: 2) downloading \n",
            "0.80% complete (down: 439.1 kb/s up: 13.4 kB/s peers: 2) downloading \n",
            "0.83% complete (down: 365.3 kb/s up: 11.2 kB/s peers: 2) downloading \n",
            "0.88% complete (down: 456.6 kb/s up: 14.0 kB/s peers: 2) downloading \n",
            "0.94% complete (down: 557.0 kb/s up: 17.0 kB/s peers: 2) downloading \n",
            "1.02% complete (down: 764.9 kb/s up: 23.5 kB/s peers: 3) downloading \n",
            "1.05% complete (down: 479.6 kb/s up: 14.5 kB/s peers: 3) downloading \n",
            "1.10% complete (down: 505.6 kb/s up: 15.3 kB/s peers: 2) downloading \n",
            "1.15% complete (down: 536.1 kb/s up: 16.3 kB/s peers: 2) downloading \n",
            "1.22% complete (down: 685.7 kb/s up: 21.2 kB/s peers: 3) downloading \n",
            "1.26% complete (down: 511.9 kb/s up: 15.5 kB/s peers: 3) downloading \n",
            "1.32% complete (down: 588.4 kb/s up: 18.0 kB/s peers: 3) downloading \n",
            "1.37% complete (down: 568.2 kb/s up: 17.2 kB/s peers: 2) downloading \n",
            "1.41% complete (down: 421.1 kb/s up: 12.6 kB/s peers: 2) downloading \n",
            "1.44% complete (down: 419.6 kb/s up: 12.6 kB/s peers: 2) downloading \n",
            "1.50% complete (down: 539.8 kb/s up: 16.6 kB/s peers: 2) downloading \n",
            "1.55% complete (down: 502.8 kb/s up: 15.2 kB/s peers: 2) downloading \n",
            "1.61% complete (down: 612.0 kb/s up: 18.6 kB/s peers: 2) downloading \n",
            "1.67% complete (down: 633.8 kb/s up: 19.2 kB/s peers: 2) downloading \n",
            "1.71% complete (down: 497.6 kb/s up: 15.0 kB/s peers: 3) downloading \n",
            "1.74% complete (down: 361.9 kb/s up: 10.9 kB/s peers: 5) downloading \n",
            "1.78% complete (down: 412.7 kb/s up: 12.6 kB/s peers: 4) downloading \n",
            "1.86% complete (down: 655.3 kb/s up: 20.1 kB/s peers: 4) downloading \n",
            "1.91% complete (down: 586.2 kb/s up: 17.8 kB/s peers: 4) downloading \n",
            "1.97% complete (down: 593.4 kb/s up: 18.2 kB/s peers: 4) downloading \n",
            "2.05% complete (down: 783.8 kb/s up: 24.0 kB/s peers: 3) downloading \n",
            "2.09% complete (down: 570.8 kb/s up: 17.2 kB/s peers: 2) downloading \n",
            "2.18% complete (down: 820.8 kb/s up: 25.0 kB/s peers: 2) downloading \n",
            "2.28% complete (down: 945.9 kb/s up: 28.8 kB/s peers: 2) downloading \n",
            "2.38% complete (down: 994.4 kb/s up: 30.2 kB/s peers: 3) downloading \n",
            "2.45% complete (down: 816.4 kb/s up: 24.6 kB/s peers: 2) downloading \n",
            "2.55% complete (down: 1016.8 kb/s up: 31.0 kB/s peers: 2) downloading \n",
            "2.63% complete (down: 884.7 kb/s up: 26.8 kB/s peers: 2) downloading \n",
            "2.66% complete (down: 539.7 kb/s up: 15.9 kB/s peers: 3) downloading \n",
            "2.73% complete (down: 692.4 kb/s up: 21.1 kB/s peers: 2) downloading \n",
            "2.79% complete (down: 581.3 kb/s up: 17.5 kB/s peers: 2) downloading \n",
            "2.85% complete (down: 625.8 kb/s up: 18.9 kB/s peers: 2) downloading \n",
            "2.90% complete (down: 600.4 kb/s up: 18.1 kB/s peers: 2) downloading \n",
            "2.95% complete (down: 541.8 kb/s up: 16.3 kB/s peers: 2) downloading \n",
            "2.99% complete (down: 482.8 kb/s up: 14.8 kB/s peers: 3) downloading \n",
            "3.03% complete (down: 427.5 kb/s up: 13.0 kB/s peers: 3) downloading \n",
            "3.10% complete (down: 656.7 kb/s up: 20.1 kB/s peers: 3) downloading \n",
            "3.21% complete (down: 950.9 kb/s up: 29.1 kB/s peers: 3) downloading \n",
            "3.27% complete (down: 710.0 kb/s up: 21.6 kB/s peers: 2) downloading \n",
            "3.32% complete (down: 612.4 kb/s up: 18.5 kB/s peers: 2) downloading \n",
            "3.38% complete (down: 597.6 kb/s up: 18.1 kB/s peers: 2) downloading \n",
            "3.43% complete (down: 569.7 kb/s up: 17.2 kB/s peers: 2) downloading \n",
            "3.47% complete (down: 441.8 kb/s up: 13.4 kB/s peers: 3) downloading \n",
            "3.51% complete (down: 456.1 kb/s up: 13.9 kB/s peers: 3) downloading \n",
            "3.58% complete (down: 597.3 kb/s up: 18.4 kB/s peers: 4) downloading \n",
            "3.60% complete (down: 380.5 kb/s up: 11.3 kB/s peers: 4) downloading \n",
            "3.62% complete (down: 283.6 kb/s up: 8.4 kB/s peers: 2) downloading \n",
            "3.66% complete (down: 359.4 kb/s up: 10.9 kB/s peers: 2) downloading \n",
            "3.70% complete (down: 412.3 kb/s up: 12.5 kB/s peers: 2) downloading \n",
            "3.74% complete (down: 371.8 kb/s up: 11.4 kB/s peers: 3) downloading \n",
            "3.76% complete (down: 269.7 kb/s up: 8.2 kB/s peers: 7) downloading \n",
            "3.79% complete (down: 285.4 kb/s up: 8.8 kB/s peers: 6) downloading \n",
            "3.84% complete (down: 470.0 kb/s up: 14.4 kB/s peers: 5) downloading \n",
            "3.89% complete (down: 541.9 kb/s up: 16.6 kB/s peers: 5) downloading \n",
            "3.94% complete (down: 476.6 kb/s up: 14.5 kB/s peers: 5) downloading \n",
            "3.99% complete (down: 574.6 kb/s up: 17.5 kB/s peers: 6) downloading \n",
            "4.04% complete (down: 476.2 kb/s up: 14.5 kB/s peers: 5) downloading \n",
            "4.08% complete (down: 507.1 kb/s up: 15.4 kB/s peers: 5) downloading \n",
            "4.12% complete (down: 404.3 kb/s up: 12.1 kB/s peers: 5) downloading \n",
            "4.14% complete (down: 278.8 kb/s up: 8.3 kB/s peers: 6) downloading \n",
            "4.17% complete (down: 322.3 kb/s up: 9.8 kB/s peers: 5) downloading \n",
            "4.21% complete (down: 350.3 kb/s up: 10.7 kB/s peers: 5) downloading \n",
            "4.26% complete (down: 486.4 kb/s up: 14.9 kB/s peers: 5) downloading \n",
            "4.33% complete (down: 703.9 kb/s up: 21.6 kB/s peers: 6) downloading \n",
            "4.36% complete (down: 368.4 kb/s up: 11.4 kB/s peers: 7) downloading \n",
            "4.38% complete (down: 306.9 kb/s up: 9.2 kB/s peers: 6) downloading \n",
            "4.42% complete (down: 359.0 kb/s up: 10.9 kB/s peers: 6) downloading \n",
            "4.48% complete (down: 524.9 kb/s up: 16.1 kB/s peers: 5) downloading \n",
            "4.52% complete (down: 516.5 kb/s up: 15.8 kB/s peers: 5) downloading \n",
            "4.54% complete (down: 285.2 kb/s up: 8.6 kB/s peers: 5) downloading \n",
            "4.59% complete (down: 392.5 kb/s up: 11.8 kB/s peers: 5) downloading \n",
            "4.61% complete (down: 308.0 kb/s up: 9.3 kB/s peers: 5) downloading \n",
            "4.63% complete (down: 288.5 kb/s up: 8.6 kB/s peers: 5) downloading \n",
            "4.71% complete (down: 636.1 kb/s up: 19.5 kB/s peers: 5) downloading \n",
            "4.80% complete (down: 818.2 kb/s up: 25.0 kB/s peers: 5) downloading \n",
            "4.90% complete (down: 993.8 kb/s up: 30.3 kB/s peers: 5) downloading \n",
            "4.97% complete (down: 812.7 kb/s up: 24.5 kB/s peers: 5) downloading \n",
            "5.00% complete (down: 504.3 kb/s up: 14.9 kB/s peers: 6) downloading \n",
            "5.04% complete (down: 420.0 kb/s up: 12.6 kB/s peers: 5) downloading \n",
            "5.06% complete (down: 302.6 kb/s up: 9.2 kB/s peers: 6) downloading \n",
            "5.08% complete (down: 260.6 kb/s up: 7.9 kB/s peers: 6) downloading \n",
            "5.14% complete (down: 459.5 kb/s up: 14.1 kB/s peers: 6) downloading \n",
            "5.18% complete (down: 450.3 kb/s up: 13.7 kB/s peers: 7) downloading \n",
            "5.25% complete (down: 660.3 kb/s up: 20.3 kB/s peers: 7) downloading \n",
            "5.32% complete (down: 734.5 kb/s up: 22.4 kB/s peers: 7) downloading \n",
            "5.35% complete (down: 463.9 kb/s up: 13.8 kB/s peers: 7) downloading \n",
            "5.39% complete (down: 471.0 kb/s up: 14.2 kB/s peers: 7) downloading \n",
            "5.46% complete (down: 638.3 kb/s up: 19.5 kB/s peers: 5) downloading \n",
            "5.53% complete (down: 674.8 kb/s up: 20.5 kB/s peers: 5) downloading \n",
            "5.57% complete (down: 550.3 kb/s up: 16.6 kB/s peers: 5) downloading \n",
            "5.63% complete (down: 598.6 kb/s up: 18.2 kB/s peers: 6) downloading \n",
            "5.67% complete (down: 482.8 kb/s up: 14.6 kB/s peers: 5) downloading \n",
            "5.70% complete (down: 333.2 kb/s up: 10.2 kB/s peers: 5) downloading \n",
            "5.70% complete (down: 160.3 kb/s up: 4.9 kB/s peers: 4) downloading \n",
            "5.71% complete (down: 87.2 kb/s up: 2.7 kB/s peers: 4) downloading \n",
            "5.71% complete (down: 32.1 kb/s up: 1.1 kB/s peers: 5) downloading \n",
            "5.71% complete (down: 51.3 kb/s up: 1.6 kB/s peers: 5) downloading \n",
            "5.72% complete (down: 42.3 kb/s up: 1.3 kB/s peers: 5) downloading \n",
            "5.73% complete (down: 66.8 kb/s up: 2.1 kB/s peers: 5) downloading \n",
            "5.73% complete (down: 80.1 kb/s up: 2.6 kB/s peers: 4) downloading \n",
            "5.74% complete (down: 70.2 kb/s up: 2.2 kB/s peers: 4) downloading \n",
            "5.75% complete (down: 70.4 kb/s up: 2.2 kB/s peers: 4) downloading \n",
            "5.75% complete (down: 71.8 kb/s up: 2.2 kB/s peers: 4) downloading \n",
            "5.76% complete (down: 71.1 kb/s up: 2.4 kB/s peers: 4) downloading \n",
            "5.77% complete (down: 71.6 kb/s up: 2.3 kB/s peers: 4) downloading \n",
            "5.77% complete (down: 69.3 kb/s up: 2.2 kB/s peers: 4) downloading \n",
            "5.77% complete (down: 42.9 kb/s up: 1.3 kB/s peers: 4) downloading \n",
            "5.78% complete (down: 38.0 kb/s up: 1.1 kB/s peers: 4) downloading \n",
            "5.78% complete (down: 56.3 kb/s up: 1.8 kB/s peers: 4) downloading \n",
            "5.79% complete (down: 69.6 kb/s up: 2.2 kB/s peers: 4) downloading \n",
            "5.80% complete (down: 70.2 kb/s up: 2.4 kB/s peers: 5) downloading \n",
            "5.81% complete (down: 77.7 kb/s up: 2.5 kB/s peers: 5) downloading \n",
            "5.81% complete (down: 77.6 kb/s up: 2.4 kB/s peers: 5) downloading \n",
            "5.82% complete (down: 79.9 kb/s up: 2.5 kB/s peers: 4) downloading \n",
            "5.83% complete (down: 81.0 kb/s up: 2.5 kB/s peers: 4) downloading \n",
            "5.84% complete (down: 78.6 kb/s up: 2.4 kB/s peers: 5) downloading \n",
            "5.84% complete (down: 78.6 kb/s up: 2.6 kB/s peers: 4) downloading \n",
            "5.85% complete (down: 83.2 kb/s up: 2.6 kB/s peers: 4) downloading \n",
            "5.85% complete (down: 53.2 kb/s up: 1.6 kB/s peers: 4) downloading \n",
            "5.85% complete (down: 17.6 kb/s up: 0.5 kB/s peers: 4) downloading \n",
            "5.85% complete (down: 7.1 kb/s up: 0.2 kB/s peers: 4) downloading \n",
            "5.86% complete (down: 8.0 kb/s up: 0.2 kB/s peers: 4) downloading \n",
            "5.86% complete (down: 6.4 kb/s up: 0.2 kB/s peers: 4) downloading \n",
            "5.86% complete (down: 13.4 kb/s up: 0.5 kB/s peers: 6) downloading \n",
            "5.86% complete (down: 9.3 kb/s up: 0.3 kB/s peers: 6) downloading \n",
            "5.86% complete (down: 9.0 kb/s up: 0.5 kB/s peers: 5) downloading \n",
            "5.86% complete (down: 9.0 kb/s up: 0.3 kB/s peers: 5) downloading \n",
            "5.86% complete (down: 3.0 kb/s up: 0.1 kB/s peers: 5) downloading \n",
            "5.86% complete (down: 1.0 kb/s up: 0.0 kB/s peers: 4) downloading \n",
            "5.86% complete (down: 0.3 kb/s up: 0.0 kB/s peers: 5) downloading \n",
            "5.86% complete (down: 0.1 kb/s up: 0.1 kB/s peers: 4) downloading \n",
            "5.86% complete (down: 0.0 kb/s up: 0.0 kB/s peers: 4) downloading \n",
            "5.86% complete (down: 0.0 kb/s up: 0.0 kB/s peers: 4) downloading \n",
            "5.86% complete (down: 0.0 kb/s up: 0.0 kB/s peers: 4) downloading \n",
            "5.86% complete (down: 0.0 kb/s up: 0.0 kB/s peers: 4) downloading \n",
            "5.86% complete (down: 0.0 kb/s up: 0.0 kB/s peers: 4) downloading \n",
            "5.86% complete (down: 0.0 kb/s up: 0.0 kB/s peers: 4) downloading \n",
            "5.86% complete (down: 0.0 kb/s up: 0.0 kB/s peers: 4) downloading \n",
            "5.86% complete (down: 0.0 kb/s up: 0.0 kB/s peers: 4) downloading \n",
            "5.86% complete (down: 0.0 kb/s up: 0.2 kB/s peers: 3) downloading \n",
            "5.86% complete (down: 0.0 kb/s up: 0.1 kB/s peers: 3) downloading \n",
            "5.86% complete (down: 0.0 kb/s up: 0.0 kB/s peers: 3) downloading \n",
            "5.86% complete (down: 0.0 kb/s up: 0.0 kB/s peers: 3) downloading \n",
            "5.86% complete (down: 0.0 kb/s up: 0.0 kB/s peers: 3) downloading \n",
            "5.86% complete (down: 0.0 kb/s up: 0.0 kB/s peers: 3) downloading \n",
            "5.86% complete (down: 0.0 kb/s up: 0.0 kB/s peers: 3) downloading \n",
            "5.86% complete (down: 0.0 kb/s up: 0.0 kB/s peers: 3) downloading \n",
            "5.86% complete (down: 0.0 kb/s up: 0.0 kB/s peers: 3) downloading \n",
            "5.86% complete (down: 0.0 kb/s up: 0.0 kB/s peers: 3) downloading \n",
            "5.86% complete (down: 0.0 kb/s up: 0.0 kB/s peers: 3) downloading \n",
            "5.86% complete (down: 0.1 kb/s up: 0.2 kB/s peers: 4) downloading \n",
            "5.86% complete (down: 0.2 kb/s up: 0.1 kB/s peers: 5) downloading \n",
            "5.86% complete (down: 0.4 kb/s up: 0.4 kB/s peers: 5) downloading \n",
            "5.94% complete (down: 489.2 kb/s up: 15.9 kB/s peers: 5) downloading \n",
            "6.17% complete (down: 1703.2 kb/s up: 53.2 kB/s peers: 4) downloading \n",
            "6.44% complete (down: 2496.2 kb/s up: 77.6 kB/s peers: 4) downloading \n",
            "6.72% complete (down: 2817.5 kb/s up: 87.5 kB/s peers: 4) downloading \n",
            "7.00% complete (down: 2912.8 kb/s up: 90.5 kB/s peers: 4) downloading \n",
            "7.28% complete (down: 2946.4 kb/s up: 91.5 kB/s peers: 4) downloading \n",
            "7.56% complete (down: 2963.5 kb/s up: 92.0 kB/s peers: 4) downloading \n",
            "7.85% complete (down: 2966.3 kb/s up: 92.1 kB/s peers: 4) downloading \n",
            "8.13% complete (down: 2985.1 kb/s up: 92.7 kB/s peers: 6) downloading \n",
            "8.41% complete (down: 2985.1 kb/s up: 92.7 kB/s peers: 6) downloading \n",
            "8.69% complete (down: 2948.6 kb/s up: 91.5 kB/s peers: 6) downloading \n",
            "8.95% complete (down: 2759.5 kb/s up: 85.0 kB/s peers: 7) downloading \n",
            "9.23% complete (down: 2896.0 kb/s up: 89.9 kB/s peers: 4) downloading \n",
            "9.51% complete (down: 2938.3 kb/s up: 91.2 kB/s peers: 4) downloading \n",
            "9.79% complete (down: 2985.1 kb/s up: 92.6 kB/s peers: 4) downloading \n",
            "10.07% complete (down: 2985.3 kb/s up: 92.6 kB/s peers: 4) downloading \n",
            "10.35% complete (down: 2945.7 kb/s up: 91.4 kB/s peers: 5) downloading \n",
            "10.63% complete (down: 2973.4 kb/s up: 92.4 kB/s peers: 4) downloading \n",
            "10.91% complete (down: 2941.5 kb/s up: 91.3 kB/s peers: 4) downloading \n",
            "11.19% complete (down: 2958.1 kb/s up: 91.8 kB/s peers: 4) downloading \n",
            "11.47% complete (down: 2966.4 kb/s up: 92.1 kB/s peers: 4) downloading \n",
            "11.75% complete (down: 2955.2 kb/s up: 91.7 kB/s peers: 4) downloading \n",
            "12.06% complete (down: 3138.1 kb/s up: 97.4 kB/s peers: 4) downloading \n",
            "12.34% complete (down: 3037.5 kb/s up: 94.3 kB/s peers: 4) downloading \n",
            "12.62% complete (down: 2974.8 kb/s up: 92.3 kB/s peers: 4) downloading \n",
            "12.89% complete (down: 2946.4 kb/s up: 91.5 kB/s peers: 5) downloading \n",
            "13.18% complete (down: 2963.1 kb/s up: 92.0 kB/s peers: 4) downloading \n",
            "13.46% complete (down: 2972.3 kb/s up: 92.3 kB/s peers: 4) downloading \n",
            "13.73% complete (down: 2954.8 kb/s up: 91.7 kB/s peers: 4) downloading \n",
            "14.02% complete (down: 2968.3 kb/s up: 92.2 kB/s peers: 5) downloading \n",
            "14.30% complete (down: 2964.6 kb/s up: 92.1 kB/s peers: 4) downloading \n",
            "14.58% complete (down: 2968.4 kb/s up: 92.2 kB/s peers: 4) downloading \n",
            "14.86% complete (down: 2962.9 kb/s up: 92.0 kB/s peers: 4) downloading \n",
            "15.14% complete (down: 2962.8 kb/s up: 92.0 kB/s peers: 4) downloading \n",
            "15.42% complete (down: 2951.7 kb/s up: 91.6 kB/s peers: 4) downloading \n",
            "15.70% complete (down: 2968.2 kb/s up: 92.1 kB/s peers: 4) downloading \n",
            "15.98% complete (down: 2971.5 kb/s up: 92.2 kB/s peers: 4) downloading \n",
            "16.26% complete (down: 2979.6 kb/s up: 92.5 kB/s peers: 4) downloading \n",
            "16.54% complete (down: 2988.8 kb/s up: 92.8 kB/s peers: 4) downloading \n",
            "16.82% complete (down: 2988.3 kb/s up: 92.8 kB/s peers: 5) downloading \n",
            "17.10% complete (down: 2939.2 kb/s up: 91.3 kB/s peers: 4) downloading \n",
            "17.38% complete (down: 2946.6 kb/s up: 91.5 kB/s peers: 4) downloading \n",
            "17.66% complete (down: 2988.2 kb/s up: 92.8 kB/s peers: 5) downloading \n",
            "17.94% complete (down: 2946.7 kb/s up: 91.5 kB/s peers: 4) downloading \n",
            "18.22% complete (down: 2961.7 kb/s up: 91.9 kB/s peers: 4) downloading \n",
            "18.50% complete (down: 2954.7 kb/s up: 91.7 kB/s peers: 4) downloading \n",
            "18.79% complete (down: 2987.7 kb/s up: 92.7 kB/s peers: 4) downloading \n",
            "19.09% complete (down: 3100.7 kb/s up: 96.2 kB/s peers: 4) downloading \n",
            "19.38% complete (down: 3051.2 kb/s up: 94.8 kB/s peers: 6) downloading \n",
            "19.66% complete (down: 3031.4 kb/s up: 94.1 kB/s peers: 6) downloading \n",
            "19.94% complete (down: 2956.2 kb/s up: 91.8 kB/s peers: 4) downloading \n",
            "20.22% complete (down: 2962.4 kb/s up: 91.9 kB/s peers: 4) downloading \n",
            "20.49% complete (down: 2855.6 kb/s up: 88.6 kB/s peers: 5) downloading \n",
            "20.77% complete (down: 2872.5 kb/s up: 89.4 kB/s peers: 4) downloading \n",
            "21.05% complete (down: 2957.3 kb/s up: 91.9 kB/s peers: 4) downloading \n",
            "21.33% complete (down: 2951.4 kb/s up: 91.6 kB/s peers: 5) downloading \n",
            "21.61% complete (down: 3000.0 kb/s up: 93.2 kB/s peers: 4) downloading \n",
            "21.89% complete (down: 2940.1 kb/s up: 91.3 kB/s peers: 4) downloading \n",
            "22.17% complete (down: 2943.1 kb/s up: 91.3 kB/s peers: 4) downloading \n",
            "22.45% complete (down: 2950.9 kb/s up: 91.6 kB/s peers: 4) downloading \n",
            "22.73% complete (down: 2940.6 kb/s up: 91.2 kB/s peers: 4) downloading \n",
            "23.01% complete (down: 2953.4 kb/s up: 91.6 kB/s peers: 4) downloading \n",
            "23.29% complete (down: 2974.6 kb/s up: 92.3 kB/s peers: 4) downloading \n"
          ],
          "name": "stdout"
        }
      ]
    }
  ]
}